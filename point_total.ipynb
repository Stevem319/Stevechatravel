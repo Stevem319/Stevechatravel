{
 "cells": [
  {
   "cell_type": "code",
   "execution_count": 1,
   "id": "0b3ca8d0-3c13-4321-bcfd-6b1a70c71741",
   "metadata": {},
   "outputs": [],
   "source": [
    "import numpy\n",
    "import helper\n",
    "import points_init"
   ]
  },
  {
   "cell_type": "code",
   "execution_count": 2,
   "id": "be35d8fc-5c0e-4442-9658-237493b30418",
   "metadata": {},
   "outputs": [],
   "source": [
    "def addEntriesToDict():\n",
    "    #create a dict which contains a bank as a key and its partners as a list and vice versa\n",
    "    bank_partner_dict={}\n",
    "    partner_bank_dict={}\n",
    "    for bank in points_init.banks_list:\n",
    "        partners_dict = points_init.conversion_dict[bank]\n",
    "        bank_partner_dict[bank]=list(partners_dict.keys())   \n",
    "    for airline in points_init.airlines_list:\n",
    "        bank_list_curr=[]\n",
    "        for bank in points_init.banks_list:\n",
    "            partners_dict = points_init.conversion_dict[bank]\n",
    "            partner_keys = list(partners_dict.keys())\n",
    "            if airline in partner_keys:\n",
    "                bank_list_curr.append(bank)\n",
    "        partner_bank_dict[airline] = bank_list_curr\n",
    "    for hotel in points_init.hotels_list:\n",
    "        bank_list_curr=[]\n",
    "        for bank in points_init.banks_list:\n",
    "            partners_dict = points_init.conversion_dict[bank]\n",
    "            partner_keys = list(partners_dict.keys())\n",
    "            if hotel in partner_keys:\n",
    "                bank_list_curr.append(bank)\n",
    "        partner_bank_dict[hotel] = bank_list_curr\n",
    "    return bank_partner_dict, partner_bank_dict\n",
    "    \n",
    "def convertMaxPoints(bank_partner_dict, partner_bank_dict):\n",
    "    #converts points from banks to partners\n",
    "    for airline in points_init.airlines_list:\n",
    "        initial_points = points_init.points_dict[airline]\n",
    "        bank_list = partner_bank_dict[airline]\n",
    "        for bank in bank_list:\n",
    "            initial_points+= points_init.points_dict[bank]*(points_init.conversion_dict[bank][airline])\n",
    "        points_init.points_dict[airline] = initial_points\n",
    "    for hotel in points_init.hotels_list:\n",
    "        initial_points = points_init.points_dict[hotel]\n",
    "        bank_list = partner_bank_dict[hotel]\n",
    "        for bank in bank_list:\n",
    "            initial_points+= points_init.points_dict[bank]*(points_init.conversion_dict[bank][hotel])\n",
    "        points_init.points_dict[hotel] = initial_points\n",
    "\n",
    "def printPoints():\n",
    "    print(\"The maximum points possible for the following programs are:\")\n",
    "    for airline in points_init.airlines_list:\n",
    "        print(airline,\": \",points_init.points_dict[airline])\n",
    "    for hotel in points_init.hotels_list:\n",
    "        print(hotel,\": \",points_init.points_dict[hotel])"
   ]
  },
  {
   "cell_type": "code",
   "execution_count": 3,
   "id": "27b426ae-9cba-4e13-962e-b2508af1cefb",
   "metadata": {},
   "outputs": [
    {
     "name": "stdout",
     "output_type": "stream",
     "text": [
      "The maximum points possible for the following programs are:\n",
      "virgin_atlantic :  2465\n",
      "flying_blue :  2465\n",
      "delta :  11910\n",
      "united :  2465\n",
      "jet_blue :  0.0\n",
      "american :  0\n",
      "velocity :  0\n",
      "alaska :  2465\n",
      "aeroplan :  2465\n",
      "british :  2465\n",
      "turkish :  6630\n",
      "quantas :  0\n",
      "avianca :  2465\n",
      "southwest :  0\n",
      "iberia :  2465\n",
      "ANA :  0\n",
      "cathay :  2465\n",
      "singapore :  0\n",
      "marriott :  2465\n",
      "hilton :  2465\n",
      "ihg :  2465\n",
      "hyatt :  2465\n"
     ]
    }
   ],
   "source": [
    "bank_partner_dict, partner_bank_dict = addEntriesToDict()\n",
    "convertMaxPoints(bank_partner_dict, partner_bank_dict)\n",
    "printPoints()"
   ]
  },
  {
   "cell_type": "code",
   "execution_count": null,
   "id": "9220ab35-2c1d-423b-9ada-845a4a422367",
   "metadata": {},
   "outputs": [],
   "source": []
  }
 ],
 "metadata": {
  "kernelspec": {
   "display_name": "Python 3 (ipykernel)",
   "language": "python",
   "name": "python3"
  },
  "language_info": {
   "codemirror_mode": {
    "name": "ipython",
    "version": 3
   },
   "file_extension": ".py",
   "mimetype": "text/x-python",
   "name": "python",
   "nbconvert_exporter": "python",
   "pygments_lexer": "ipython3",
   "version": "3.12.3"
  }
 },
 "nbformat": 4,
 "nbformat_minor": 5
}
