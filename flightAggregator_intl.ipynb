{
 "cells": [
  {
   "cell_type": "code",
   "execution_count": 1,
   "id": "e3f05391",
   "metadata": {},
   "outputs": [],
   "source": [
    "import numpy as np\n",
    "import helper\n",
    "import pickle\n",
    "import datetime\n",
    "import os.path\n",
    "import time\n",
    "import pandas as pd"
   ]
  },
  {
   "cell_type": "code",
   "execution_count": 2,
   "id": "2a37eec9",
   "metadata": {},
   "outputs": [
    {
     "name": "stdout",
     "output_type": "stream",
     "text": [
      "Sweep  1\n"
     ]
    },
    {
     "data": {
      "application/vnd.jupyter.widget-view+json": {
       "model_id": "0a45b3cf357c48f78eddcc23ddb09f7d",
       "version_major": 2,
       "version_minor": 0
      },
      "text/plain": [
       "Processing:   0%|          | 0/4500 [00:00<?, ?it/s]"
      ]
     },
     "metadata": {},
     "output_type": "display_data"
    },
    {
     "name": "stdout",
     "output_type": "stream",
     "text": [
      "\n",
      "\n",
      " 594 / 4500  entries unfinished\n",
      "\n",
      "\n",
      "Sweep  2\n"
     ]
    },
    {
     "data": {
      "application/vnd.jupyter.widget-view+json": {
       "model_id": "69ad2ddc97824d3abcc9708ef21fbc86",
       "version_major": 2,
       "version_minor": 0
      },
      "text/plain": [
       "Processing:   0%|          | 0/4500 [00:00<?, ?it/s]"
      ]
     },
     "metadata": {},
     "output_type": "display_data"
    },
    {
     "name": "stdout",
     "output_type": "stream",
     "text": [
      "\n",
      "\n",
      " 591 / 4500  entries unfinished\n",
      "\n",
      "\n",
      "Sweep  3\n"
     ]
    },
    {
     "data": {
      "application/vnd.jupyter.widget-view+json": {
       "model_id": "ab5fc0dfbc2244b7aa231459e5fee985",
       "version_major": 2,
       "version_minor": 0
      },
      "text/plain": [
       "Processing:   0%|          | 0/4500 [00:00<?, ?it/s]"
      ]
     },
     "metadata": {},
     "output_type": "display_data"
    },
    {
     "name": "stdout",
     "output_type": "stream",
     "text": [
      "\n",
      "\n",
      " 591 / 4500  entries unfinished\n",
      "\n",
      "\n"
     ]
    }
   ],
   "source": [
    "intl_city_pairs = [\n",
    "    [\"ATL\",\"FCO\",[5,7,9,11,13]], \n",
    "    [\"ATL\",\"DEL\",[21,24,27,30,33]], \n",
    "    [\"ATL\",\"CDG\",[5,7,9,11,13]],\n",
    "    [\"ATL\",\"FRA\",[5,7,9,11,13]],\n",
    "    [\"ATL\",\"LHR\",[5,7,9,11,13]], \n",
    "    [\"ATL\",\"ATH\",[5,7,9,11,13]], \n",
    "    [\"ATL\",\"CAI\",[5,7,9,11,13]],\n",
    "    [\"ATL\",\"CUN\",[4,5,6,7,8]],\n",
    "    [\"ATL\",\"HND\",[5,6,7,9,10]],\n",
    "]\n",
    "num_days = 365\n",
    "mode = \"intl\"\n",
    "folder_path = 'logs/'\n",
    "DB_filename = 'dataDB'\n",
    "max_tries = 3\n",
    "date_today_file = datetime.datetime.today().strftime('%Y-%m-%d') + '_intl.pkl'\n",
    "if os.path.isfile(folder_path+date_today_file):\n",
    "    with open(folder_path+date_today_file, 'rb') as handle:\n",
    "        itin_dict = pickle.load(handle) \n",
    "else:\n",
    "    itin = helper.gen_itineraries(intl_city_pairs, \"intl\", num_days)\n",
    "    itin_dict = helper.gen_dict_from_itin(itin)\n",
    "    with open(folder_path+date_today_file, 'wb') as handle:\n",
    "        pickle.dump(itin_dict, handle, protocol=pickle.HIGHEST_PROTOCOL)\n",
    "\n",
    "for i in range(max_tries):\n",
    "    print(\"Sweep \",(i+1))\n",
    "    num_unfinished = helper.update_dict(itin_dict, folder_path, date_today_file, mode)\n",
    "    total_keys = len(itin_dict.keys())\n",
    "    print(\"\\n\\n\",num_unfinished,\"/\",total_keys, \" entries unfinished\\n\\n\")\n",
    "    if num_unfinished==0:\n",
    "        print(\"\\n\\nAll entries filled. Exiting\\n\\n\")\n",
    "        break\n",
    "\n",
    "#WARNING: Run this line only to make DB from scratch using all the files already in the logs\n",
    "# helper.createDBFromDictFiles(DB_filename, mode, folder_path)\n",
    "\n",
    "#Add the itin_dict into the database\n",
    "helper.addDictToDBFromFile(DB_filename, mode, folder_path, itin_dict)"
   ]
  }
 ],
 "metadata": {
  "kernelspec": {
   "display_name": "Python 3 (ipykernel)",
   "language": "python",
   "name": "python3"
  },
  "language_info": {
   "codemirror_mode": {
    "name": "ipython",
    "version": 3
   },
   "file_extension": ".py",
   "mimetype": "text/x-python",
   "name": "python",
   "nbconvert_exporter": "python",
   "pygments_lexer": "ipython3",
   "version": "3.12.3"
  }
 },
 "nbformat": 4,
 "nbformat_minor": 5
}
